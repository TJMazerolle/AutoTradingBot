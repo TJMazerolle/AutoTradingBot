{
 "cells": [
  {
   "cell_type": "code",
   "execution_count": null,
   "metadata": {},
   "outputs": [],
   "source": [
    "from MainScriptFunctions import *\n",
    "import schedule\n",
    "import time"
   ]
  },
  {
   "cell_type": "markdown",
   "metadata": {},
   "source": [
    "## Main Script"
   ]
  },
  {
   "cell_type": "code",
   "execution_count": null,
   "metadata": {},
   "outputs": [],
   "source": [
    "# Weekly Updates\n",
    "# schedule.every().day.at(\"19:00\").do(WeeklyUpdate)\n",
    "\n",
    "# Daily Updates\n",
    "schedule.every().day.at(\"03:00\").do(DailyUpdate)\n",
    "schedule.every().day.at(\"07:00\").do(DailyUpdate)\n",
    "schedule.every().day.at(\"11:00\").do(DailyUpdate)\n",
    "schedule.every().day.at(\"15:00\").do(DailyUpdate)\n",
    "schedule.every().day.at(\"19:00\").do(DailyUpdate)\n",
    "schedule.every().day.at(\"23:00\").do(DailyUpdate)\n",
    "\n",
    "# Hourly Updates\n",
    "# schedule.every(15).minutes.do(HourlyUpdate)"
   ]
  },
  {
   "cell_type": "code",
   "execution_count": null,
   "metadata": {},
   "outputs": [],
   "source": [
    "# Keep the script running so scheduled tasks can be executed\n",
    "while True:\n",
    "    DailyUpdate()\n",
    "    schedule.run_pending()\n",
    "    time.sleep(60)  # Sleep for 60 second to avoid consuming CPU resources"
   ]
  }
 ],
 "metadata": {
  "kernelspec": {
   "display_name": "CSCN8010_classic_ml",
   "language": "python",
   "name": "python3"
  },
  "language_info": {
   "codemirror_mode": {
    "name": "ipython",
    "version": 3
   },
   "file_extension": ".py",
   "mimetype": "text/x-python",
   "name": "python",
   "nbconvert_exporter": "python",
   "pygments_lexer": "ipython3",
   "version": "3.11.9"
  }
 },
 "nbformat": 4,
 "nbformat_minor": 2
}
