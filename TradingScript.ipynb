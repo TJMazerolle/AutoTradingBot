{
 "cells": [
  {
   "cell_type": "code",
   "execution_count": 1,
   "metadata": {},
   "outputs": [],
   "source": [
    "from MainScriptFunctions import *\n",
    "import schedule\n",
    "import time"
   ]
  },
  {
   "cell_type": "markdown",
   "metadata": {},
   "source": [
    "## Main Script"
   ]
  },
  {
   "cell_type": "code",
   "execution_count": 2,
   "metadata": {},
   "outputs": [
    {
     "data": {
      "text/plain": [
       "Every 1 day at 19:00:00 do DailyUpdate() (last run: [never], next run: 2024-08-28 19:00:00)"
      ]
     },
     "execution_count": 2,
     "metadata": {},
     "output_type": "execute_result"
    }
   ],
   "source": [
    "# Weekly Updates\n",
    "# schedule.every().day.at(\"19:00\").do(WeeklyUpdate)\n",
    "\n",
    "# Daily Updates\n",
    "# schedule.every().day.at(\"03:00\").do(DailyUpdate)\n",
    "# schedule.every().day.at(\"07:00\").do(DailyUpdate)\n",
    "# schedule.every().day.at(\"11:00\").do(DailyUpdate)\n",
    "# schedule.every().day.at(\"15:00\").do(DailyUpdate)\n",
    "schedule.every().day.at(\"19:00\").do(DailyUpdate)\n",
    "# schedule.every().day.at(\"23:00\").do(DailyUpdate)\n",
    "\n",
    "# Hourly Updates\n",
    "# schedule.every(15).minutes.do(HourlyUpdate)"
   ]
  },
  {
   "cell_type": "code",
   "execution_count": 3,
   "metadata": {},
   "outputs": [
    {
     "name": "stdout",
     "output_type": "stream",
     "text": [
      "Account Value: $99979.8\n",
      "Got Bid/Ask Prices\n",
      "Got Open Positions\n",
      "Scrapped Signals From investing.com\n",
      "Got Actions to Execute\n",
      "Closing AUDJPY\n",
      "Closing CADJPY\n",
      "Closing GBPJPY\n",
      "Closing NZDCHF\n",
      "Going Long on AUDCAD\n",
      "Going Long on AUDUSD\n",
      "Going Long on CHFJPY\n",
      "Going Long on EURUSD\n",
      "Going Long on GBPAUD\n",
      "Going Long on GBPCAD\n",
      "Going Long on GBPUSD\n",
      "Going Long on NZDCAD\n",
      "Going Long on NZDUSD\n",
      "Going Short on AUDCHF\n",
      "Going Short on AUDNZD\n",
      "Going Short on EURAUD\n",
      "Going Short on EURCHF\n",
      "Going Short on EURGBP\n",
      "Going Short on EURJPY\n",
      "Going Short on EURNZD\n",
      "Going Short on GBPNZD\n",
      "Going Short on USDCAD\n",
      "Going Short on USDCHF\n",
      "Going Short on USDJPY\n",
      "Completed Daily Run at 2024-08-28 00:44:58.379645\n",
      "=================================================\n"
     ]
    }
   ],
   "source": [
    "# Keep the script running so scheduled tasks can be executed\n",
    "while True:\n",
    "    DailyUpdate()\n",
    "    schedule.run_pending()\n",
    "    time.sleep(60)  # Sleep for 60 second to avoid consuming CPU resources"
   ]
  }
 ],
 "metadata": {
  "kernelspec": {
   "display_name": "CSCN8010_classic_ml",
   "language": "python",
   "name": "python3"
  },
  "language_info": {
   "codemirror_mode": {
    "name": "ipython",
    "version": 3
   },
   "file_extension": ".py",
   "mimetype": "text/x-python",
   "name": "python",
   "nbconvert_exporter": "python",
   "pygments_lexer": "ipython3",
   "version": "3.12.5"
  }
 },
 "nbformat": 4,
 "nbformat_minor": 2
}
